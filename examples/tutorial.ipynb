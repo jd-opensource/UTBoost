{
 "cells": [
  {
   "cell_type": "markdown",
   "id": "11f12e5d",
   "metadata": {},
   "source": [
    "# UTBoost Tutorial\n",
    "\n",
    "In this tutorial, we use a synthetic dataset as demonstration data. You can find the data generation functions in this notebook.  \n",
    "Please make sure that you have installed `UTBoost` and some necessary dependencies when running this tutorial."
   ]
  },
  {
   "cell_type": "code",
   "execution_count": 1,
   "id": "296fcc37",
   "metadata": {
    "execution": {
     "iopub.execute_input": "2023-12-27T09:47:54.197694Z",
     "iopub.status.busy": "2023-12-27T09:47:54.197545Z",
     "iopub.status.idle": "2023-12-27T09:47:54.484316Z",
     "shell.execute_reply": "2023-12-27T09:47:54.483391Z",
     "shell.execute_reply.started": "2023-12-27T09:47:54.197671Z"
    },
    "tags": []
   },
   "outputs": [
    {
     "name": "stdout",
     "output_type": "stream",
     "text": [
      "0.1.6\n",
      "Python 3.6.9 :: Anaconda, Inc.\n"
     ]
    }
   ],
   "source": [
    "import utboost as utb\n",
    "from utboost import UTBClassifier, UTBRegressor\n",
    "\n",
    "print(utb.__version__)\n",
    "!python --version"
   ]
  },
  {
   "cell_type": "markdown",
   "id": "ae3910dc",
   "metadata": {},
   "source": [
    "## Making synthetic data\n",
    "\n",
    "We construct a classical uplift problem, which consists of a binary classification outcome and a binary treatment indicator.  \n",
    "For multi-treatment problem, please make sure that your treatment indicator starts at zero and is continuously incremented. If there is a treatment in the training data that does not have a corresponding sample, utb will not be able to process it."
   ]
  },
  {
   "cell_type": "code",
   "execution_count": 2,
   "id": "24988b7b",
   "metadata": {
    "execution": {
     "iopub.execute_input": "2023-12-27T09:47:55.557805Z",
     "iopub.status.busy": "2023-12-27T09:47:55.557539Z",
     "iopub.status.idle": "2023-12-27T09:47:56.865957Z",
     "shell.execute_reply": "2023-12-27T09:47:56.865159Z",
     "shell.execute_reply.started": "2023-12-27T09:47:55.557774Z"
    },
    "tags": []
   },
   "outputs": [],
   "source": [
    "import numpy as np\n",
    "import pandas as pd\n",
    "\n",
    "from sklearn.datasets import make_classification\n",
    "from sklearn.model_selection import train_test_split"
   ]
  },
  {
   "cell_type": "code",
   "execution_count": 3,
   "id": "fcad0012",
   "metadata": {
    "execution": {
     "iopub.execute_input": "2023-12-27T09:47:57.375664Z",
     "iopub.status.busy": "2023-12-27T09:47:57.375389Z",
     "iopub.status.idle": "2023-12-27T09:47:57.392202Z",
     "shell.execute_reply": "2023-12-27T09:47:57.391523Z",
     "shell.execute_reply.started": "2023-12-27T09:47:57.375631Z"
    },
    "tags": []
   },
   "outputs": [],
   "source": [
    "def make_uplift_problem(\n",
    "        n_samples_per_group: int = 1000,\n",
    "        n_features: int = 10,\n",
    "        n_informative: int = 5,\n",
    "        n_uplift_mix_informative: int = 5,\n",
    "        n_redundant: int = 0,\n",
    "        n_repeated: int = 0,\n",
    "        flip_y: float = 0.,\n",
    "        pos_weight: float = 0.5,\n",
    "        delta_uplift_increase: float = 0.1,\n",
    "        random_seed: int = None,\n",
    "):\n",
    "    \"\"\"\n",
    "    Generate a synthetic dataset for classification uplift problem with binary treatment.\n",
    "\n",
    "    Parameters\n",
    "    ----------\n",
    "    n_samples_per_group : int, optional (default=1000)\n",
    "        The number of samples per group.\n",
    "    n_features : int, optional (default=10)\n",
    "        The total number of features.\n",
    "    n_informative : int, optional (default=5)\n",
    "        The number of informative features.\n",
    "    n_uplift_mix_informative : int, optional (default=5)\n",
    "        The number of mix features.\n",
    "    n_redundant : int, optional (default=0)\n",
    "        The number of redundant features.\n",
    "    n_repeated : int, optional (default=0)\n",
    "        The number of duplicated features, drawn randomly from the informative\n",
    "        and the redundant features.\n",
    "    flip_y : float, optional (default=0.)\n",
    "        The fraction of samples whose class is assigned randomly.\n",
    "    pos_weight : float, optional (default=0.5)\n",
    "        The proportions of samples assigned to positive class.\n",
    "    delta_uplift_increase : float, optional (default=0.1)\n",
    "        Positive treatment effect.\n",
    "    random_seed : int, optional (default=None)\n",
    "        Random seed.\n",
    "    Returns\n",
    "    -------\n",
    "    output : DataFrame\n",
    "        Data frame with the treatment, label, features, and effect.\n",
    "    features : list of strings\n",
    "        Feature names in output.\n",
    "    References\n",
    "    ----------\n",
    "    [1] I. Guyon, \"Design of experiments for the NIPS 2003 variable selection benchmark\", 2003.\n",
    "    \"\"\"\n",
    "    if random_seed is not None:\n",
    "        np.random.seed(seed=random_seed)\n",
    "    # dataset dataframe\n",
    "    output = pd.DataFrame()\n",
    "    n_samples = n_samples_per_group * 2\n",
    "    # generate treatments\n",
    "    treatments = [0] * n_samples_per_group + [1] * n_samples_per_group\n",
    "    treatments = np.random.permutation(treatments)\n",
    "    output[\"treatment\"] = treatments\n",
    "    X1, Y1 = make_classification(n_samples=n_samples, n_features=n_features, n_informative=n_informative,\n",
    "                                 n_redundant=n_redundant, n_repeated=n_repeated, n_clusters_per_class=1,\n",
    "                                 weights=[1 - pos_weight, pos_weight], flip_y=flip_y)\n",
    "    features = []\n",
    "    x_informative_name = []\n",
    "    for i in range(n_informative):\n",
    "        x_name_i = \"x\" + str(len(features) + 1) + \"_informative\"\n",
    "        features.append(x_name_i)\n",
    "        x_informative_name.append(x_name_i)\n",
    "        output[x_name_i] = X1[:, i]\n",
    "    for i in range(n_redundant):\n",
    "        x_name_i = \"x\" + str(len(features) + 1) + \"_redundant\"\n",
    "        features.append(x_name_i)\n",
    "        output[x_name_i] = X1[:, n_informative + i]\n",
    "    for i in range(n_repeated):\n",
    "        x_name_i = \"x\" + str(len(features) + 1) + \"_repeated\"\n",
    "        features.append(x_name_i)\n",
    "        output[x_name_i] = X1[:, n_informative + n_redundant + i]\n",
    "    for i in range(n_features - n_informative - n_redundant - n_repeated):\n",
    "        x_name_i = \"x\" + str(len(features) + 1) + \"_irrelevant\"\n",
    "        features.append(x_name_i)\n",
    "        output[x_name_i] = np.random.normal(0, 1, n_samples)\n",
    "    # default treatment effects\n",
    "    Y = Y1.copy()\n",
    "    # generate positive uplift signal\n",
    "    treatment_index = output.index[output[\"treatment\"] == 1].tolist()\n",
    "    x_uplift_increase_name = []\n",
    "    adjust_class_proportion = delta_uplift_increase / (1 - pos_weight)\n",
    "    X_increase, Y_increase = make_classification(n_samples=n_samples, n_features=n_informative,\n",
    "                                                 n_informative=n_informative, n_redundant=0,\n",
    "                                                 n_clusters_per_class=1,\n",
    "                                                 weights=[1 - adjust_class_proportion, adjust_class_proportion])\n",
    "    for i in range(n_informative):  # informative x\n",
    "        x_name_i = \"x\" + str(len(features) + 1) + \"_uplift_increase\"\n",
    "        features.append(x_name_i)\n",
    "        x_uplift_increase_name.append(x_name_i)\n",
    "        output[x_name_i] = X_increase[:, i]\n",
    "    Y[treatment_index] = Y[treatment_index] + Y_increase[treatment_index]\n",
    "    if n_uplift_mix_informative > 0:  # mix informative x\n",
    "        for i in range(n_uplift_mix_informative):\n",
    "            x_name_i = \"x\" + str(len(features) + 1) + \"_uplift_increase_mix\"\n",
    "            features.append(x_name_i)\n",
    "            output[x_name_i] = (np.random.uniform(-1, 1) * output[np.random.choice(x_informative_name)]\n",
    "                                + np.random.uniform(-1, 1) * output[np.random.choice(x_uplift_increase_name)])\n",
    "\n",
    "    Y = np.clip(Y, 0, 1)\n",
    "    output['label'] = Y\n",
    "    output[\"effect\"] = Y - Y1\n",
    "    return output, features\n"
   ]
  },
  {
   "cell_type": "code",
   "execution_count": 4,
   "id": "7cceabc7",
   "metadata": {
    "execution": {
     "iopub.execute_input": "2023-12-27T09:47:59.342834Z",
     "iopub.status.busy": "2023-12-27T09:47:59.342571Z",
     "iopub.status.idle": "2023-12-27T09:47:59.565951Z",
     "shell.execute_reply": "2023-12-27T09:47:59.564981Z",
     "shell.execute_reply.started": "2023-12-27T09:47:59.342801Z"
    },
    "tags": []
   },
   "outputs": [],
   "source": [
    "synthetic, x_names = make_uplift_problem(\n",
    "    n_samples_per_group=20000,\n",
    "    n_features=50,\n",
    "    n_informative=30,\n",
    "    n_redundant=5,\n",
    "    flip_y=0.05,\n",
    "    pos_weight=0.5,\n",
    "    delta_uplift_increase=0.2,\n",
    "    random_seed=616\n",
    ")"
   ]
  },
  {
   "cell_type": "code",
   "execution_count": 5,
   "id": "33351092",
   "metadata": {
    "execution": {
     "iopub.execute_input": "2023-12-27T09:48:00.608031Z",
     "iopub.status.busy": "2023-12-27T09:48:00.607748Z",
     "iopub.status.idle": "2023-12-27T09:48:00.636334Z",
     "shell.execute_reply": "2023-12-27T09:48:00.635517Z",
     "shell.execute_reply.started": "2023-12-27T09:48:00.607994Z"
    },
    "tags": []
   },
   "outputs": [
    {
     "data": {
      "text/html": [
       "<div>\n",
       "<style scoped>\n",
       "    .dataframe tbody tr th:only-of-type {\n",
       "        vertical-align: middle;\n",
       "    }\n",
       "\n",
       "    .dataframe tbody tr th {\n",
       "        vertical-align: top;\n",
       "    }\n",
       "\n",
       "    .dataframe thead th {\n",
       "        text-align: right;\n",
       "    }\n",
       "</style>\n",
       "<table border=\"1\" class=\"dataframe\">\n",
       "  <thead>\n",
       "    <tr style=\"text-align: right;\">\n",
       "      <th></th>\n",
       "      <th>treatment</th>\n",
       "      <th>x1_informative</th>\n",
       "      <th>x2_informative</th>\n",
       "      <th>x3_informative</th>\n",
       "      <th>x4_informative</th>\n",
       "      <th>x5_informative</th>\n",
       "      <th>x6_informative</th>\n",
       "      <th>x7_informative</th>\n",
       "      <th>x8_informative</th>\n",
       "      <th>x9_informative</th>\n",
       "      <th>...</th>\n",
       "      <th>x78_uplift_increase</th>\n",
       "      <th>x79_uplift_increase</th>\n",
       "      <th>x80_uplift_increase</th>\n",
       "      <th>x81_uplift_increase_mix</th>\n",
       "      <th>x82_uplift_increase_mix</th>\n",
       "      <th>x83_uplift_increase_mix</th>\n",
       "      <th>x84_uplift_increase_mix</th>\n",
       "      <th>x85_uplift_increase_mix</th>\n",
       "      <th>label</th>\n",
       "      <th>effect</th>\n",
       "    </tr>\n",
       "  </thead>\n",
       "  <tbody>\n",
       "    <tr>\n",
       "      <th>0</th>\n",
       "      <td>1</td>\n",
       "      <td>6.425808</td>\n",
       "      <td>-1.164129</td>\n",
       "      <td>1.083316</td>\n",
       "      <td>-1.222816</td>\n",
       "      <td>0.652277</td>\n",
       "      <td>0.793619</td>\n",
       "      <td>0.383192</td>\n",
       "      <td>-0.429992</td>\n",
       "      <td>0.327897</td>\n",
       "      <td>...</td>\n",
       "      <td>-3.266396</td>\n",
       "      <td>1.314588</td>\n",
       "      <td>1.071352</td>\n",
       "      <td>0.119340</td>\n",
       "      <td>-1.263203</td>\n",
       "      <td>0.924545</td>\n",
       "      <td>-1.075563</td>\n",
       "      <td>-1.029562</td>\n",
       "      <td>1</td>\n",
       "      <td>0</td>\n",
       "    </tr>\n",
       "    <tr>\n",
       "      <th>1</th>\n",
       "      <td>0</td>\n",
       "      <td>4.563638</td>\n",
       "      <td>-3.992527</td>\n",
       "      <td>-0.962077</td>\n",
       "      <td>-3.841889</td>\n",
       "      <td>4.232803</td>\n",
       "      <td>1.477837</td>\n",
       "      <td>0.245814</td>\n",
       "      <td>6.572843</td>\n",
       "      <td>-0.006567</td>\n",
       "      <td>...</td>\n",
       "      <td>1.408347</td>\n",
       "      <td>-0.152745</td>\n",
       "      <td>-4.434943</td>\n",
       "      <td>6.035259</td>\n",
       "      <td>-2.370432</td>\n",
       "      <td>-0.428110</td>\n",
       "      <td>3.290593</td>\n",
       "      <td>-0.523953</td>\n",
       "      <td>1</td>\n",
       "      <td>0</td>\n",
       "    </tr>\n",
       "    <tr>\n",
       "      <th>2</th>\n",
       "      <td>1</td>\n",
       "      <td>2.635125</td>\n",
       "      <td>-8.149208</td>\n",
       "      <td>1.762120</td>\n",
       "      <td>3.301717</td>\n",
       "      <td>-0.777128</td>\n",
       "      <td>2.432556</td>\n",
       "      <td>-0.842265</td>\n",
       "      <td>2.772428</td>\n",
       "      <td>0.905667</td>\n",
       "      <td>...</td>\n",
       "      <td>2.370869</td>\n",
       "      <td>1.508215</td>\n",
       "      <td>6.428551</td>\n",
       "      <td>2.442481</td>\n",
       "      <td>1.239299</td>\n",
       "      <td>-2.287100</td>\n",
       "      <td>-5.048173</td>\n",
       "      <td>-0.269928</td>\n",
       "      <td>0</td>\n",
       "      <td>0</td>\n",
       "    </tr>\n",
       "    <tr>\n",
       "      <th>3</th>\n",
       "      <td>1</td>\n",
       "      <td>2.614141</td>\n",
       "      <td>2.269490</td>\n",
       "      <td>0.428034</td>\n",
       "      <td>1.242533</td>\n",
       "      <td>4.054275</td>\n",
       "      <td>-0.084977</td>\n",
       "      <td>0.639430</td>\n",
       "      <td>-2.287006</td>\n",
       "      <td>-3.934921</td>\n",
       "      <td>...</td>\n",
       "      <td>1.522768</td>\n",
       "      <td>-0.257097</td>\n",
       "      <td>-2.914597</td>\n",
       "      <td>-2.865980</td>\n",
       "      <td>-2.229839</td>\n",
       "      <td>-0.175178</td>\n",
       "      <td>2.011729</td>\n",
       "      <td>2.742500</td>\n",
       "      <td>1</td>\n",
       "      <td>0</td>\n",
       "    </tr>\n",
       "    <tr>\n",
       "      <th>4</th>\n",
       "      <td>0</td>\n",
       "      <td>2.131168</td>\n",
       "      <td>-7.820181</td>\n",
       "      <td>-0.504414</td>\n",
       "      <td>-0.547154</td>\n",
       "      <td>-5.020314</td>\n",
       "      <td>2.377088</td>\n",
       "      <td>0.076174</td>\n",
       "      <td>-3.193009</td>\n",
       "      <td>-2.946153</td>\n",
       "      <td>...</td>\n",
       "      <td>2.502511</td>\n",
       "      <td>-4.130155</td>\n",
       "      <td>-4.882651</td>\n",
       "      <td>-3.308974</td>\n",
       "      <td>-1.012571</td>\n",
       "      <td>-1.309999</td>\n",
       "      <td>-2.022039</td>\n",
       "      <td>1.001331</td>\n",
       "      <td>0</td>\n",
       "      <td>0</td>\n",
       "    </tr>\n",
       "  </tbody>\n",
       "</table>\n",
       "<p>5 rows × 88 columns</p>\n",
       "</div>"
      ],
      "text/plain": [
       "   treatment  x1_informative  x2_informative  x3_informative  x4_informative  \\\n",
       "0          1        6.425808       -1.164129        1.083316       -1.222816   \n",
       "1          0        4.563638       -3.992527       -0.962077       -3.841889   \n",
       "2          1        2.635125       -8.149208        1.762120        3.301717   \n",
       "3          1        2.614141        2.269490        0.428034        1.242533   \n",
       "4          0        2.131168       -7.820181       -0.504414       -0.547154   \n",
       "\n",
       "   x5_informative  x6_informative  x7_informative  x8_informative  \\\n",
       "0        0.652277        0.793619        0.383192       -0.429992   \n",
       "1        4.232803        1.477837        0.245814        6.572843   \n",
       "2       -0.777128        2.432556       -0.842265        2.772428   \n",
       "3        4.054275       -0.084977        0.639430       -2.287006   \n",
       "4       -5.020314        2.377088        0.076174       -3.193009   \n",
       "\n",
       "   x9_informative  ...  x78_uplift_increase  x79_uplift_increase  \\\n",
       "0        0.327897  ...            -3.266396             1.314588   \n",
       "1       -0.006567  ...             1.408347            -0.152745   \n",
       "2        0.905667  ...             2.370869             1.508215   \n",
       "3       -3.934921  ...             1.522768            -0.257097   \n",
       "4       -2.946153  ...             2.502511            -4.130155   \n",
       "\n",
       "   x80_uplift_increase  x81_uplift_increase_mix  x82_uplift_increase_mix  \\\n",
       "0             1.071352                 0.119340                -1.263203   \n",
       "1            -4.434943                 6.035259                -2.370432   \n",
       "2             6.428551                 2.442481                 1.239299   \n",
       "3            -2.914597                -2.865980                -2.229839   \n",
       "4            -4.882651                -3.308974                -1.012571   \n",
       "\n",
       "   x83_uplift_increase_mix  x84_uplift_increase_mix  x85_uplift_increase_mix  \\\n",
       "0                 0.924545                -1.075563                -1.029562   \n",
       "1                -0.428110                 3.290593                -0.523953   \n",
       "2                -2.287100                -5.048173                -0.269928   \n",
       "3                -0.175178                 2.011729                 2.742500   \n",
       "4                -1.309999                -2.022039                 1.001331   \n",
       "\n",
       "   label  effect  \n",
       "0      1       0  \n",
       "1      1       0  \n",
       "2      0       0  \n",
       "3      1       0  \n",
       "4      0       0  \n",
       "\n",
       "[5 rows x 88 columns]"
      ]
     },
     "execution_count": 5,
     "metadata": {},
     "output_type": "execute_result"
    }
   ],
   "source": [
    "synthetic.head()"
   ]
  },
  {
   "cell_type": "markdown",
   "id": "2ab6acf7",
   "metadata": {},
   "source": [
    "## Preparing your data"
   ]
  },
  {
   "cell_type": "code",
   "execution_count": 6,
   "id": "5f8d4995",
   "metadata": {
    "execution": {
     "iopub.execute_input": "2023-12-27T09:48:02.279002Z",
     "iopub.status.busy": "2023-12-27T09:48:02.278705Z",
     "iopub.status.idle": "2023-12-27T09:48:02.333602Z",
     "shell.execute_reply": "2023-12-27T09:48:02.332720Z",
     "shell.execute_reply.started": "2023-12-27T09:48:02.278969Z"
    },
    "tags": []
   },
   "outputs": [],
   "source": [
    "# Split your data into train and validation\n",
    "train, valid = train_test_split(synthetic, random_state=42)\n",
    "\n",
    "# values extraction\n",
    "X_train, y_train, T_train = train.loc[:, x_names].values, train.loc[:, 'label'].values, train.loc[:, 'treatment'].values\n",
    "X_valid, y_valid, T_valid = valid.loc[:, x_names].values, valid.loc[:, 'label'].values, valid.loc[:, 'treatment'].values"
   ]
  },
  {
   "cell_type": "markdown",
   "id": "020bc16f",
   "metadata": {},
   "source": [
    "## Selecting the algorithm\n",
    "\n",
    "Possible options for boosting (`ensemble_type='boosting`):\n",
    "1. `criterion='gbm'` -> CausalGBM\n",
    "2. `criterion='ddp'` -> TDDP\n",
    "\n",
    "Possible options for bagging (`ensemble_type='bagging`):\n",
    "1. `criterion='gbm'` -> CausalGBM (The gradient is constant and not updated)\n",
    "2. `criterion='ddp'` -> Uplift random forest (delta-delta-p)\n",
    "3. `criterion='ed'` -> Uplift random forest (Euclidean Distance)\n",
    "4. `criterion='kl'` -> Uplift random forest (KL Divergence)\n",
    "5. `criterion='chi'` -> Uplift random forest (Chi-Square statistic)"
   ]
  },
  {
   "cell_type": "markdown",
   "id": "8742fc47",
   "metadata": {},
   "source": [
    "## Model Building and Training\n",
    "\n",
    "In addition to the usual tree model parameters, such as `max_depth` and `iterations`, UTBoost also provides parameters specific to causal problems, such as whether or not to use monotonicity constraints on causal effects (`effect_constrains`), etc.   \n",
    "You can refer to the parameter annotations of the corresponding functions for more information, so we won't go into it too much here."
   ]
  },
  {
   "cell_type": "code",
   "execution_count": 7,
   "id": "9a273d45",
   "metadata": {
    "execution": {
     "iopub.execute_input": "2023-12-27T09:48:04.088933Z",
     "iopub.status.busy": "2023-12-27T09:48:04.088512Z",
     "iopub.status.idle": "2023-12-27T09:48:04.092991Z",
     "shell.execute_reply": "2023-12-27T09:48:04.092291Z",
     "shell.execute_reply.started": "2023-12-27T09:48:04.088887Z"
    },
    "tags": []
   },
   "outputs": [],
   "source": [
    "# define model\n",
    "# For regression problem, you should use `UTBRegressor`, not `UTBClassifier`.\n",
    "model = UTBClassifier(\n",
    "    ensemble_type='boosting',\n",
    "    criterion='gbm',\n",
    "    iterations=100,\n",
    "    max_depth=4, \n",
    "    eval_metric=['qini_coff']\n",
    ")"
   ]
  },
  {
   "cell_type": "code",
   "execution_count": 8,
   "id": "1c7f535e",
   "metadata": {
    "execution": {
     "iopub.execute_input": "2023-12-27T09:48:04.897871Z",
     "iopub.status.busy": "2023-12-27T09:48:04.897575Z",
     "iopub.status.idle": "2023-12-27T09:48:05.933444Z",
     "shell.execute_reply": "2023-12-27T09:48:05.932529Z",
     "shell.execute_reply.started": "2023-12-27T09:48:04.897837Z"
    },
    "tags": []
   },
   "outputs": [
    {
     "name": "stdout",
     "output_type": "stream",
     "text": [
      "   0:\ttrain-qini_coff: 0.088136\tvalid-0-qini_coff: 0.086238\ttotal: 0.01s\n",
      "   1:\ttrain-qini_coff: 0.093118\tvalid-0-qini_coff: 0.095320\ttotal: 0.01s\n",
      "   2:\ttrain-qini_coff: 0.107277\tvalid-0-qini_coff: 0.105780\ttotal: 0.02s\n",
      "   3:\ttrain-qini_coff: 0.108615\tvalid-0-qini_coff: 0.107065\ttotal: 0.03s\n",
      "   4:\ttrain-qini_coff: 0.112787\tvalid-0-qini_coff: 0.109320\ttotal: 0.03s\n",
      "   5:\ttrain-qini_coff: 0.117081\tvalid-0-qini_coff: 0.115149\ttotal: 0.04s\n",
      "   6:\ttrain-qini_coff: 0.116534\tvalid-0-qini_coff: 0.116476\ttotal: 0.05s\n",
      "   7:\ttrain-qini_coff: 0.122877\tvalid-0-qini_coff: 0.121372\ttotal: 0.05s\n",
      "   8:\ttrain-qini_coff: 0.128143\tvalid-0-qini_coff: 0.126253\ttotal: 0.06s\n",
      "   9:\ttrain-qini_coff: 0.129083\tvalid-0-qini_coff: 0.126179\ttotal: 0.06s\n",
      "  10:\ttrain-qini_coff: 0.132188\tvalid-0-qini_coff: 0.128736\ttotal: 0.07s\n",
      "  11:\ttrain-qini_coff: 0.134702\tvalid-0-qini_coff: 0.131604\ttotal: 0.08s\n",
      "  12:\ttrain-qini_coff: 0.141538\tvalid-0-qini_coff: 0.138290\ttotal: 0.09s\n",
      "  13:\ttrain-qini_coff: 0.142422\tvalid-0-qini_coff: 0.138034\ttotal: 0.09s\n",
      "  14:\ttrain-qini_coff: 0.147071\tvalid-0-qini_coff: 0.142332\ttotal: 0.10s\n",
      "  15:\ttrain-qini_coff: 0.149000\tvalid-0-qini_coff: 0.144572\ttotal: 0.11s\n",
      "  16:\ttrain-qini_coff: 0.152975\tvalid-0-qini_coff: 0.148567\ttotal: 0.11s\n",
      "  17:\ttrain-qini_coff: 0.157294\tvalid-0-qini_coff: 0.153212\ttotal: 0.12s\n",
      "  18:\ttrain-qini_coff: 0.158672\tvalid-0-qini_coff: 0.154996\ttotal: 0.13s\n",
      "  19:\ttrain-qini_coff: 0.162104\tvalid-0-qini_coff: 0.157625\ttotal: 0.13s\n",
      "  20:\ttrain-qini_coff: 0.167723\tvalid-0-qini_coff: 0.162738\ttotal: 0.14s\n",
      "  21:\ttrain-qini_coff: 0.167907\tvalid-0-qini_coff: 0.162177\ttotal: 0.15s\n",
      "  22:\ttrain-qini_coff: 0.169288\tvalid-0-qini_coff: 0.163022\ttotal: 0.15s\n",
      "  23:\ttrain-qini_coff: 0.174832\tvalid-0-qini_coff: 0.167960\ttotal: 0.16s\n",
      "  24:\ttrain-qini_coff: 0.175090\tvalid-0-qini_coff: 0.168346\ttotal: 0.17s\n",
      "  25:\ttrain-qini_coff: 0.175558\tvalid-0-qini_coff: 0.168208\ttotal: 0.18s\n",
      "  26:\ttrain-qini_coff: 0.179568\tvalid-0-qini_coff: 0.171622\ttotal: 0.19s\n",
      "  27:\ttrain-qini_coff: 0.183333\tvalid-0-qini_coff: 0.174248\ttotal: 0.20s\n",
      "  28:\ttrain-qini_coff: 0.183607\tvalid-0-qini_coff: 0.174610\ttotal: 0.20s\n",
      "  29:\ttrain-qini_coff: 0.184196\tvalid-0-qini_coff: 0.175472\ttotal: 0.21s\n",
      "  30:\ttrain-qini_coff: 0.184715\tvalid-0-qini_coff: 0.176082\ttotal: 0.22s\n",
      "  31:\ttrain-qini_coff: 0.184778\tvalid-0-qini_coff: 0.176122\ttotal: 0.22s\n",
      "  32:\ttrain-qini_coff: 0.186643\tvalid-0-qini_coff: 0.177097\ttotal: 0.23s\n",
      "  33:\ttrain-qini_coff: 0.186522\tvalid-0-qini_coff: 0.177450\ttotal: 0.24s\n",
      "  34:\ttrain-qini_coff: 0.188353\tvalid-0-qini_coff: 0.178215\ttotal: 0.24s\n",
      "  35:\ttrain-qini_coff: 0.188758\tvalid-0-qini_coff: 0.178500\ttotal: 0.25s\n",
      "  36:\ttrain-qini_coff: 0.189135\tvalid-0-qini_coff: 0.178552\ttotal: 0.26s\n",
      "  37:\ttrain-qini_coff: 0.189254\tvalid-0-qini_coff: 0.178551\ttotal: 0.26s\n",
      "  38:\ttrain-qini_coff: 0.189397\tvalid-0-qini_coff: 0.178605\ttotal: 0.29s\n",
      "  39:\ttrain-qini_coff: 0.190785\tvalid-0-qini_coff: 0.179571\ttotal: 0.29s\n",
      "  40:\ttrain-qini_coff: 0.191107\tvalid-0-qini_coff: 0.179881\ttotal: 0.30s\n",
      "  41:\ttrain-qini_coff: 0.192226\tvalid-0-qini_coff: 0.180046\ttotal: 0.30s\n",
      "  42:\ttrain-qini_coff: 0.192663\tvalid-0-qini_coff: 0.180449\ttotal: 0.31s\n",
      "  43:\ttrain-qini_coff: 0.192810\tvalid-0-qini_coff: 0.180685\ttotal: 0.32s\n",
      "  44:\ttrain-qini_coff: 0.193537\tvalid-0-qini_coff: 0.181142\ttotal: 0.32s\n",
      "  45:\ttrain-qini_coff: 0.193811\tvalid-0-qini_coff: 0.181503\ttotal: 0.33s\n",
      "  46:\ttrain-qini_coff: 0.194039\tvalid-0-qini_coff: 0.182128\ttotal: 0.33s\n",
      "  47:\ttrain-qini_coff: 0.194599\tvalid-0-qini_coff: 0.182442\ttotal: 0.34s\n",
      "  48:\ttrain-qini_coff: 0.195013\tvalid-0-qini_coff: 0.182479\ttotal: 0.35s\n",
      "  49:\ttrain-qini_coff: 0.195720\tvalid-0-qini_coff: 0.182489\ttotal: 0.35s\n",
      "  50:\ttrain-qini_coff: 0.195918\tvalid-0-qini_coff: 0.182997\ttotal: 0.36s\n",
      "  51:\ttrain-qini_coff: 0.196186\tvalid-0-qini_coff: 0.182947\ttotal: 0.36s\n",
      "  52:\ttrain-qini_coff: 0.196533\tvalid-0-qini_coff: 0.182677\ttotal: 0.37s\n",
      "  53:\ttrain-qini_coff: 0.196621\tvalid-0-qini_coff: 0.183097\ttotal: 0.39s\n",
      "  54:\ttrain-qini_coff: 0.197481\tvalid-0-qini_coff: 0.183523\ttotal: 0.40s\n",
      "  55:\ttrain-qini_coff: 0.197775\tvalid-0-qini_coff: 0.183290\ttotal: 0.40s\n",
      "  56:\ttrain-qini_coff: 0.197984\tvalid-0-qini_coff: 0.183333\ttotal: 0.41s\n",
      "  57:\ttrain-qini_coff: 0.198562\tvalid-0-qini_coff: 0.183778\ttotal: 0.41s\n",
      "  58:\ttrain-qini_coff: 0.198872\tvalid-0-qini_coff: 0.183704\ttotal: 0.42s\n",
      "  59:\ttrain-qini_coff: 0.199205\tvalid-0-qini_coff: 0.183761\ttotal: 0.43s\n",
      "  60:\ttrain-qini_coff: 0.199477\tvalid-0-qini_coff: 0.183894\ttotal: 0.43s\n",
      "  61:\ttrain-qini_coff: 0.199808\tvalid-0-qini_coff: 0.183978\ttotal: 0.44s\n",
      "  62:\ttrain-qini_coff: 0.199907\tvalid-0-qini_coff: 0.184012\ttotal: 0.44s\n",
      "  63:\ttrain-qini_coff: 0.200162\tvalid-0-qini_coff: 0.184445\ttotal: 0.45s\n",
      "  64:\ttrain-qini_coff: 0.200267\tvalid-0-qini_coff: 0.184745\ttotal: 0.46s\n",
      "  65:\ttrain-qini_coff: 0.201088\tvalid-0-qini_coff: 0.184749\ttotal: 0.46s\n",
      "  66:\ttrain-qini_coff: 0.201120\tvalid-0-qini_coff: 0.184839\ttotal: 0.48s\n",
      "  67:\ttrain-qini_coff: 0.201524\tvalid-0-qini_coff: 0.184702\ttotal: 0.49s\n",
      "  68:\ttrain-qini_coff: 0.201715\tvalid-0-qini_coff: 0.184960\ttotal: 0.50s\n",
      "  69:\ttrain-qini_coff: 0.202115\tvalid-0-qini_coff: 0.184835\ttotal: 0.50s\n",
      "  70:\ttrain-qini_coff: 0.202504\tvalid-0-qini_coff: 0.184831\ttotal: 0.51s\n",
      "  71:\ttrain-qini_coff: 0.202514\tvalid-0-qini_coff: 0.185006\ttotal: 0.51s\n",
      "  72:\ttrain-qini_coff: 0.202607\tvalid-0-qini_coff: 0.185211\ttotal: 0.52s\n",
      "  73:\ttrain-qini_coff: 0.203196\tvalid-0-qini_coff: 0.185460\ttotal: 0.53s\n",
      "  74:\ttrain-qini_coff: 0.203436\tvalid-0-qini_coff: 0.185665\ttotal: 0.53s\n",
      "  75:\ttrain-qini_coff: 0.203377\tvalid-0-qini_coff: 0.185694\ttotal: 0.54s\n",
      "  76:\ttrain-qini_coff: 0.203786\tvalid-0-qini_coff: 0.185447\ttotal: 0.54s\n",
      "  77:\ttrain-qini_coff: 0.203966\tvalid-0-qini_coff: 0.185818\ttotal: 0.55s\n",
      "  78:\ttrain-qini_coff: 0.203936\tvalid-0-qini_coff: 0.185714\ttotal: 0.56s\n",
      "  79:\ttrain-qini_coff: 0.204223\tvalid-0-qini_coff: 0.185359\ttotal: 0.56s\n",
      "  80:\ttrain-qini_coff: 0.204622\tvalid-0-qini_coff: 0.185448\ttotal: 0.59s\n",
      "  81:\ttrain-qini_coff: 0.204832\tvalid-0-qini_coff: 0.185607\ttotal: 0.59s\n",
      "  82:\ttrain-qini_coff: 0.204824\tvalid-0-qini_coff: 0.185770\ttotal: 0.60s\n",
      "  83:\ttrain-qini_coff: 0.205205\tvalid-0-qini_coff: 0.185737\ttotal: 0.61s\n",
      "  84:\ttrain-qini_coff: 0.205118\tvalid-0-qini_coff: 0.185676\ttotal: 0.61s\n",
      "  85:\ttrain-qini_coff: 0.205640\tvalid-0-qini_coff: 0.185742\ttotal: 0.62s\n",
      "  86:\ttrain-qini_coff: 0.206010\tvalid-0-qini_coff: 0.185950\ttotal: 0.62s\n",
      "  87:\ttrain-qini_coff: 0.206139\tvalid-0-qini_coff: 0.186224\ttotal: 0.63s\n",
      "  88:\ttrain-qini_coff: 0.206319\tvalid-0-qini_coff: 0.186164\ttotal: 0.64s\n",
      "  89:\ttrain-qini_coff: 0.206510\tvalid-0-qini_coff: 0.186400\ttotal: 0.64s\n",
      "  90:\ttrain-qini_coff: 0.206641\tvalid-0-qini_coff: 0.186422\ttotal: 0.65s\n",
      "  91:\ttrain-qini_coff: 0.207255\tvalid-0-qini_coff: 0.186513\ttotal: 0.66s\n",
      "  92:\ttrain-qini_coff: 0.207517\tvalid-0-qini_coff: 0.186509\ttotal: 0.66s\n",
      "  93:\ttrain-qini_coff: 0.207700\tvalid-0-qini_coff: 0.186478\ttotal: 0.69s\n",
      "  94:\ttrain-qini_coff: 0.207788\tvalid-0-qini_coff: 0.186710\ttotal: 0.70s\n",
      "  95:\ttrain-qini_coff: 0.208369\tvalid-0-qini_coff: 0.186812\ttotal: 0.70s\n",
      "  96:\ttrain-qini_coff: 0.208592\tvalid-0-qini_coff: 0.186996\ttotal: 0.71s\n",
      "  97:\ttrain-qini_coff: 0.208678\tvalid-0-qini_coff: 0.187138\ttotal: 0.72s\n",
      "  98:\ttrain-qini_coff: 0.208955\tvalid-0-qini_coff: 0.187163\ttotal: 0.72s\n",
      "  99:\ttrain-qini_coff: 0.209414\tvalid-0-qini_coff: 0.186993\ttotal: 0.73s\n"
     ]
    },
    {
     "data": {
      "text/plain": [
       "<utboost.core.UTBClassifier at 0x7f3dd5036780>"
      ]
     },
     "execution_count": 8,
     "metadata": {},
     "output_type": "execute_result"
    }
   ],
   "source": [
    "# train model\n",
    "model.fit(\n",
    "    X=X_train, \n",
    "    ti=T_train, \n",
    "    y=y_train, \n",
    "    eval_sets=[(X_valid, T_valid, y_valid)]\n",
    ")"
   ]
  },
  {
   "cell_type": "markdown",
   "id": "e668ad23",
   "metadata": {},
   "source": [
    "## Uplift prediction\n",
    "\n",
    "The predicted output of UTBoost is the potential outcome prediction under the corresponding treatment, and you can get an estimate of the causal effect by simple calculation."
   ]
  },
  {
   "cell_type": "code",
   "execution_count": 9,
   "id": "9a317fa6",
   "metadata": {
    "execution": {
     "iopub.execute_input": "2023-12-27T09:48:08.648574Z",
     "iopub.status.busy": "2023-12-27T09:48:08.648268Z",
     "iopub.status.idle": "2023-12-27T09:48:08.661472Z",
     "shell.execute_reply": "2023-12-27T09:48:08.660847Z",
     "shell.execute_reply.started": "2023-12-27T09:48:08.648541Z"
    },
    "tags": []
   },
   "outputs": [
    {
     "name": "stdout",
     "output_type": "stream",
     "text": [
      "Outcome shape:  (10000, 2)\n",
      "Uplift shape:  (10000,)\n"
     ]
    }
   ],
   "source": [
    "preds = model.predict(X_valid)\n",
    "uplift_preds = preds[:, 1] - preds[:, 0]\n",
    "\n",
    "print('Outcome shape: ', preds.shape)\n",
    "print('Uplift shape: ', uplift_preds.shape)"
   ]
  },
  {
   "cell_type": "markdown",
   "id": "5c317b82",
   "metadata": {},
   "source": [
    "## Evaluation with sklift\n",
    "sklift provides common evaluation metrics that we can use to assess the performance of the model.\n",
    "\n",
    "sklift: https://github.com/maks-sh/scikit-uplift"
   ]
  },
  {
   "cell_type": "code",
   "execution_count": 10,
   "id": "523f1a9d",
   "metadata": {
    "execution": {
     "iopub.execute_input": "2023-12-27T09:48:10.237763Z",
     "iopub.status.busy": "2023-12-27T09:48:10.237463Z",
     "iopub.status.idle": "2023-12-27T09:48:10.507716Z",
     "shell.execute_reply": "2023-12-27T09:48:10.506791Z",
     "shell.execute_reply.started": "2023-12-27T09:48:10.237728Z"
    },
    "tags": []
   },
   "outputs": [],
   "source": [
    "from sklift.metrics import qini_auc_score\n",
    "from sklift.viz import plot_qini_curve"
   ]
  },
  {
   "cell_type": "code",
   "execution_count": 11,
   "id": "3510f6d1",
   "metadata": {
    "execution": {
     "iopub.execute_input": "2023-12-27T09:48:11.079351Z",
     "iopub.status.busy": "2023-12-27T09:48:11.079061Z",
     "iopub.status.idle": "2023-12-27T09:48:11.261620Z",
     "shell.execute_reply": "2023-12-27T09:48:11.260859Z",
     "shell.execute_reply.started": "2023-12-27T09:48:11.079317Z"
    },
    "tags": []
   },
   "outputs": [
    {
     "name": "stdout",
     "output_type": "stream",
     "text": [
      "Qini Score: 0.1869933887175378\n"
     ]
    },
    {
     "data": {
      "text/plain": [
       "<sklift.viz.base.UpliftCurveDisplay at 0x7f3dd5064940>"
      ]
     },
     "execution_count": 11,
     "metadata": {},
     "output_type": "execute_result"
    },
    {
     "data": {
      "image/png": "[encoded data removed]",
      "text/plain": [
       "<Figure size 432x288 with 1 Axes>"
      ]
     },
     "metadata": {
      "needs_background": "light"
     },
     "output_type": "display_data"
    }
   ],
   "source": [
    "print(\"Qini Score:\", qini_auc_score(y_valid, uplift_preds, T_valid))\n",
    "plot_qini_curve(\n",
    "    y_true=y_valid,\n",
    "    uplift=uplift_preds,\n",
    "    treatment=T_valid,\n",
    "    perfect=True\n",
    ")"
   ]
  },
  {
   "cell_type": "markdown",
   "id": "29c1d6e3",
   "metadata": {},
   "source": [
    "## Save model to file"
   ]
  },
  {
   "cell_type": "code",
   "execution_count": 12,
   "id": "3336d911",
   "metadata": {
    "execution": {
     "iopub.execute_input": "2023-12-27T09:44:31.472708Z",
     "iopub.status.busy": "2023-12-27T09:44:31.472408Z",
     "iopub.status.idle": "2023-12-27T09:44:31.510149Z",
     "shell.execute_reply": "2023-12-27T09:44:31.509509Z",
     "shell.execute_reply.started": "2023-12-27T09:44:31.472676Z"
    },
    "tags": []
   },
   "outputs": [
    {
     "data": {
      "text/plain": [
       "<utboost.core.UTBClassifier at 0x7fdd5065d780>"
      ]
     },
     "execution_count": 12,
     "metadata": {},
     "output_type": "execute_result"
    }
   ],
   "source": [
    "model.save_model('./model.utm')"
   ]
  },
  {
   "cell_type": "markdown",
   "id": "0533146c",
   "metadata": {},
   "source": [
    "## Load model from file"
   ]
  },
  {
   "cell_type": "code",
   "execution_count": 13,
   "id": "fee6d798",
   "metadata": {
    "execution": {
     "iopub.execute_input": "2023-12-27T09:44:35.249370Z",
     "iopub.status.busy": "2023-12-27T09:44:35.249062Z",
     "iopub.status.idle": "2023-12-27T09:44:35.256786Z",
     "shell.execute_reply": "2023-12-27T09:44:35.256027Z",
     "shell.execute_reply.started": "2023-12-27T09:44:35.249325Z"
    },
    "tags": []
   },
   "outputs": [],
   "source": [
    "model = UTBClassifier().load_model('./model.utm')"
   ]
  }
 ],
 "metadata": {
  "kernelspec": {
   "display_name": "main",
   "language": "python",
   "name": "main"
  },
  "language_info": {
   "codemirror_mode": {
    "name": "ipython",
    "version": 3
   },
   "file_extension": ".py",
   "mimetype": "text/x-python",
   "name": "python",
   "nbconvert_exporter": "python",
   "pygments_lexer": "ipython3",
   "version": "3.6.9"
  }
 },
 "nbformat": 4,
 "nbformat_minor": 5
}
